{
 "cells": [
  {
   "cell_type": "markdown",
   "metadata": {},
   "source": [
    "<h1>Buisness Intelligence - Sheet 2 </h1>\n",
    "<h2> Camilo Andrés Vega Agudelo - 0000163913 </h2>\n",
    "<h2> Johan Nicolas Imbachi Nino - 0000179756 </h2>"
   ]
  },
  {
   "cell_type": "markdown",
   "metadata": {},
   "source": [
    "# Exercise 1.2 Standarization (z-score-normalization)"
   ]
  },
  {
   "cell_type": "markdown",
   "metadata": {},
   "source": [
    "# a)"
   ]
  },
  {
   "cell_type": "markdown",
   "metadata": {},
   "source": [
    "Demostration in figure 1\n",
    "\n",
    "This is a practical Demostration"
   ]
  },
  {
   "cell_type": "code",
   "execution_count": 1,
   "metadata": {},
   "outputs": [
    {
     "data": {
      "text/plain": [
       "(array([ 2.,  0., 11.,  9., 17.,  9.,  1.,  0.,  0.,  1.]),\n",
       " array([24.23412091, 30.52253467, 36.81094844, 43.0993622 , 49.38777596,\n",
       "        55.67618972, 61.96460349, 68.25301725, 74.54143101, 80.82984477,\n",
       "        87.11825854]),\n",
       " <BarContainer object of 10 artists>)"
      ]
     },
     "execution_count": 1,
     "metadata": {},
     "output_type": "execute_result"
    },
    {
     "data": {
      "image/png": "[encoded data removed]",
      "text/plain": [
       "<Figure size 432x288 with 1 Axes>"
      ]
     },
     "metadata": {
      "needs_background": "light"
     },
     "output_type": "display_data"
    }
   ],
   "source": [
    "import numpy as np\n",
    "import matplotlib.pyplot as plt\n",
    "import pandas as pd\n",
    "from scipy import stats\n",
    "\n",
    "a = np.random.normal(50,10,50)\n",
    "plt.hist(a)"
   ]
  },
  {
   "cell_type": "code",
   "execution_count": 2,
   "metadata": {},
   "outputs": [
    {
     "data": {
      "text/plain": [
       "array([-0.65898291,  1.33681481, -0.15386678, -0.80640947,  0.02299637,\n",
       "       -0.10124292,  0.65371166, -0.8087621 , -0.10875244, -0.46688933,\n",
       "       -1.21684373, -0.81426631, -0.67113744, -0.91382594,  0.45199855,\n",
       "        0.02446909,  0.00643506,  0.53529734,  0.0715732 ,  0.17077048,\n",
       "        0.83421839,  0.9227031 , -0.82689531,  0.29408137,  1.26570093,\n",
       "        0.24279219, -0.59417569,  0.21924397,  0.21587586,  0.15266008,\n",
       "       -2.59168026,  0.07011034, -1.13634778, -0.8492919 ,  0.98181026,\n",
       "       -2.5795367 , -0.60002827,  0.1525559 , -0.07248504, -0.61410824,\n",
       "        3.85766364, -0.69246488,  0.06587712, -0.09062719,  1.26185951,\n",
       "        0.05070521,  1.01452629,  0.75661552,  1.17100756,  0.56454686])"
      ]
     },
     "execution_count": 2,
     "metadata": {},
     "output_type": "execute_result"
    }
   ],
   "source": [
    "zScore_A = stats.zscore(a)\n",
    "zScore_A"
   ]
  },
  {
   "cell_type": "code",
   "execution_count": 3,
   "metadata": {},
   "outputs": [
    {
     "name": "stdout",
     "output_type": "stream",
     "text": [
      "Z Score Normalization Mean: -8.881784197001253e-18 , It is real close to 0\n",
      "Z Score Normalization Variance:  0.9999999999999999 It is real close to 1\n"
     ]
    }
   ],
   "source": [
    "print('Z Score Normalization Mean:', zScore_A.mean(), ', It is real close to 0')\n",
    "print ('Z Score Normalization Variance: ', zScore_A.var(), 'It is real close to 1')"
   ]
  },
  {
   "cell_type": "markdown",
   "metadata": {},
   "source": [
    "\n"
   ]
  },
  {
   "cell_type": "markdown",
   "metadata": {},
   "source": [
    "# Exercise 2.2\n",
    "Implement two functions <b>normalize(D)</b> and <b>standardize(D)</b>, one to range-normalize and one to z-score-standardize a given matrix D (nparray; output should be a matrix too). Create a normalized and a standardized copy of the Iris data. Check the correlation matrices to see whether the linear dependency among attributes changes by normaliza- tion or standardization. In the two copies, find, respectively, the pair of attributes with the lowest and with the strongest covariance."
   ]
  },
  {
   "cell_type": "code",
   "execution_count": 21,
   "metadata": {},
   "outputs": [],
   "source": [
    "import pandas as pd\n",
    "import numpy as np\n",
    "\n",
    "iris_dataset = pd.read_csv('https://raw.githubusercontent.com/uiuc-cse/data-fa14/gh-pages/data/iris.csv')\n",
    "iris_without_species = iris_dataset.drop(columns=['species'])"
   ]
  },
  {
   "cell_type": "code",
   "execution_count": 22,
   "metadata": {},
   "outputs": [],
   "source": [
    "# 2.2\n",
    "\n",
    "# def normalize(D, att, xi):\n",
    "#     myRange = np.ptp(D[att])\n",
    "#     minValue = np.amin(D[att])\n",
    "#     x = D[att][xi]\n",
    "#     return((x-minValue)/myRange)\n",
    "\n",
    "# normalize(iris_dataset, 'sepal_length', 0)\n",
    "\n",
    "def normalize(D):\n",
    "    return((D - D.min(axis = 0)) / (D.max(axis = 0) - D.min(axis = 0)))\n",
    "\n",
    "def standardize(D):\n",
    "    return((D - D.mean(axis = 0)) / D.std(axis = 0))\n",
    "\n",
    "normalized_iris = normalize(iris_without_species)\n",
    "standarized_iris = standardize(iris_without_species)\n"
   ]
  },
  {
   "cell_type": "markdown",
   "metadata": {},
   "source": [
    "# Exercise 2.3 \n",
    "\n",
    "Write a function scatterdata(M, ax=None) where M is a n × 2 matrix (numpy object)\n",
    "and ax is an optional axis object (if none is given, the plot shall be created in a new\n",
    "axis object). Scatter the points of the matrix M into the plot. Then draw two lines that\n",
    "cross the mean of the data and that have the same direction as the eigenvectors of the\n",
    "covariance matrix of the given data.\n",
    "Write a function plotComparisons(M) that creates a n × 3 plot grid in which each row\n",
    "stands for one pair of two attributes of the given numpy matrix M (do not suppose that\n",
    "M is a Pandas data frame). Here, n is the number of possible 2-combinations of columns\n",
    "of M. In the first column, use scatterdata to plot for each pair of attributes the data of\n",
    "the dataset with the lines marking the eigenvectors. For the other two columns do the\n",
    "same but normalized (middle column) and standardized (right column) the data."
   ]
  },
  {
   "cell_type": "code",
   "execution_count": 4,
   "metadata": {},
   "outputs": [
    {
     "data": {
      "image/png": "[encoded data removed]",
      "text/plain": [
       "<Figure size 432x288 with 1 Axes>"
      ]
     },
     "metadata": {
      "needs_background": "light"
     },
     "output_type": "display_data"
    }
   ],
   "source": [
    "Matrix = np.random.rand(200,2)\n",
    "\n",
    "def scatterData(M, ax=None):\n",
    "        plt.scatter(M[:,0], M[:,1])\n",
    "        meanX = M[:,0].mean()\n",
    "        meanY = M[:,1].mean()\n",
    "        \n",
    "        #Covariance Matrix\n",
    "        covM = (M.T@M)/(M.shape[0])\n",
    "        \n",
    "        eigen_values, eigen_vectors = np.linalg.eig(covM)\n",
    "        origin = [meanX, meanY]\n",
    "        \n",
    "        eigVec1 = eigen_vectors[:,0]\n",
    "        eigVec2 = eigen_vectors[:,1]\n",
    "        \n",
    "        #print(eigVec1, eigVec2)\n",
    "        \n",
    "        plt.quiver(*origin, *eigVec1, color=['green'], scale=5)\n",
    "        plt.quiver(*origin, *eigVec2, color=['red'], scale=5)\n",
    "        plt.show()\n",
    "        \n",
    "        #print(covM, '\\n X Mean',meanX, '\\n Y Mean', meanY )\n",
    "        \n",
    "scatterData(Matrix)"
   ]
  },
  {
   "cell_type": "code",
   "execution_count": 15,
   "metadata": {
    "scrolled": false
   },
   "outputs": [
    {
     "data": {
      "image/png": "[encoded data removed]",
      "text/plain": [
       "<Figure size 720x720 with 3 Axes>"
      ]
     },
     "metadata": {
      "needs_background": "light"
     },
     "output_type": "display_data"
    },
    {
     "data": {
      "image/png": "[encoded data removed]",
      "text/plain": [
       "<Figure size 432x288 with 1 Axes>"
      ]
     },
     "metadata": {
      "needs_background": "light"
     },
     "output_type": "display_data"
    },
    {
     "data": {
      "image/png": "[encoded data removed]",
      "text/plain": [
       "<Figure size 432x288 with 1 Axes>"
      ]
     },
     "metadata": {
      "needs_background": "light"
     },
     "output_type": "display_data"
    }
   ],
   "source": [
    "import itertools \n",
    "from math import factorial\n",
    "\n",
    "def normalize(D):\n",
    "    return((D - D.min(axis = 0)) / (D.max(axis = 0) - D.min(axis = 0)))\n",
    "\n",
    "def standardize(D):\n",
    "    return((D - D.mean(axis = 0)) / D.std(axis = 0))\n",
    "\n",
    "RdmMatrix = np.random.randint(1,50,(25,2))\n",
    "\n",
    "def plotComparisons(M):\n",
    "    Comb = int((factorial(RdmMatrix.shape[1]) / (factorial(2)*factorial(RdmMatrix.shape[1]-2))))\n",
    "    fig, ax1 = plt.subplots(Comb, 3, figsize=(10,10))\n",
    "    normal = normalize(M)\n",
    "    standart = standardize(M)\n",
    "    \n",
    "    scatterData(M,ax1[0])\n",
    "    scatterData(normal,ax1[1])\n",
    "    scatterData(standart,ax1[2])\n",
    "    \n",
    "    plt.show()\n",
    "    \n",
    "    \n",
    "plotComparisons(RdmMatrix)"
   ]
  },
  {
   "cell_type": "code",
   "execution_count": null,
   "metadata": {},
   "outputs": [],
   "source": []
  }
 ],
 "metadata": {
  "kernelspec": {
   "display_name": "Python 3",
   "language": "python",
   "name": "python3"
  },
  "language_info": {
   "codemirror_mode": {
    "name": "ipython",
    "version": 3
   },
   "file_extension": ".py",
   "mimetype": "text/x-python",
   "name": "python",
   "nbconvert_exporter": "python",
   "pygments_lexer": "ipython3",
   "version": "3.8.5"
  }
 },
 "nbformat": 4,
 "nbformat_minor": 4
}
