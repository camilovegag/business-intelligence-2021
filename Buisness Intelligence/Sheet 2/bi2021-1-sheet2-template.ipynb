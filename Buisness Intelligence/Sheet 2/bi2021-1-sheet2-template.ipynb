{
 "cells": [
  {
   "cell_type": "code",
   "execution_count": 9,
   "metadata": {},
   "outputs": [],
   "source": [
    "import numpy as np\n",
    "import pandas as pd\n",
    "import matplotlib.pyplot as plt"
   ]
  },
  {
   "cell_type": "markdown",
   "metadata": {},
   "source": [
    "# Exercise 2.1"
   ]
  },
  {
   "cell_type": "code",
   "execution_count": 10,
   "metadata": {
    "scrolled": true
   },
   "outputs": [
    {
     "name": "stdout",
     "output_type": "stream",
     "text": [
      "Eigen-Vectors: FAIL\n"
     ]
    },
    {
     "name": "stderr",
     "output_type": "stream",
     "text": [
      "<ipython-input-10-edc85db012fb>:8: UserWarning: getStats not working properly! Output of getStats should be a tuple of length 3!\n",
      "  warnings.warn(\"getStats not working properly! Output of getStats should be a tuple of length 3!\")\n",
      "<ipython-input-10-edc85db012fb>:37: UserWarning: Eigenvector [ 0.64  0.74 -0.2 ] does not coincide with vector [-0.64 -0.74  0.2 ]\n",
      "  warnings.warn(\"Eigenvector \" + str(eigenvector_act) + \" does not coincide with vector \" + str(eigenvector_exp))\n"
     ]
    }
   ],
   "source": [
    "## unit-tests for getStats and getEigen\n",
    "import warnings\n",
    "dfIrisTest = pd.read_csv(\"https://raw.githubusercontent.com/uiuc-cse/data-fa14/gh-pages/data/iris.csv\")\n",
    "DIris = dfIrisTest.values[:,0:4].astype(float)\n",
    "def testStats(expected, D):\n",
    "    out = getStats(D)\n",
    "    if type(out) != tuple or len(out) != 3:\n",
    "        warnings.warn(\"getStats not working properly! Output of getStats should be a tuple of length 3!\")\n",
    "        return\n",
    "    mu, cov, cor = out\n",
    "    print(\"mu:\", \"OK\" if np.array_equal(np.round(expected[0], 3), np.round(mu, 3)) else \"FAIL\")\n",
    "    print(\"cov:\", \"OK\" if np.array_equal(np.round(expected[1], 3), np.round(cov, 3)) else \"FAIL\")\n",
    "    print(\"cor:\", \"OK\" if np.array_equal(np.round(expected[2], 3), np.round(cor, 3)) else \"FAIL\")\n",
    "\n",
    "covIris = np.array([[ 0.681, -0.039, 1.265, 0.513], [-0.039, 0.187, -0.32, -0.117], [1.265, -0.32, 3.092, 1.288], [0.513, -0.117,  1.288,  0.579]])\n",
    "testStats(([5.843, 3.054, 3.759, 1.199], covIris, np.array([[ 1., -0.109, 0.872, 0.818], [-0.109,  1., -0.421, -0.357], [0.872, -0.421, 1., 0.963], [0.818, -0.357, 0.963,  1.]])), DIris)\n",
    "\n",
    "def testEigen(expected, D):\n",
    "    eigenInfo = getEigen(D)\n",
    "    if (type(eigenInfo) != list and type(eigenInfo) != tuple) or len(eigenInfo) != 2:\n",
    "        warnings.warn(\"getEigen should produce a tuple or list of length 2.\")\n",
    "        return\n",
    "    eigenvalues_act = list(np.round(eigenInfo[0],2))\n",
    "    eigenvectors_act = np.round(eigenInfo[1], 2)\n",
    "    eigenvalues_exp = list(np.round(expected[0], 2))\n",
    "    eigenvectors_exp = np.round(expected[1], 2)\n",
    "    \n",
    "    for i, evalue in enumerate(eigenvalues_exp):\n",
    "        if not evalue in eigenvalues_act:\n",
    "            warnings.warn(\"Eigenvalue \" + str(evalue) + \" not found in computed eigenvalues \" + str(eigenvalues_act))\n",
    "            print(\"Eigen-Vectors: FAIL\")\n",
    "            return\n",
    "        index = eigenvalues_act.index(evalue)\n",
    "        eigenvector_act = eigenvectors_act[:,index]\n",
    "        eigenvector_exp = eigenvectors_exp[:,i]\n",
    "        if not np.array_equal(eigenvector_act, eigenvector_exp):\n",
    "            warnings.warn(\"Eigenvector \" + str(eigenvector_act) + \" does not coincide with vector \" + str(eigenvector_exp))\n",
    "            print(\"Eigen-Vectors: FAIL\")\n",
    "            return\n",
    "    print(\"Eigen-Vectors: OK\")\n",
    "\n",
    "testEigen(([0.24, 0.059, 3.662], np.array([[-0.639, -0.742, 0.2], [-0.663, 0.664, 0.346], [-0.39, 0.089, -0.916]]).T), covIris[:3,:3])"
   ]
  },
  {
   "cell_type": "markdown",
   "metadata": {},
   "source": [
    "# Exercise 2.2"
   ]
  },
  {
   "cell_type": "code",
   "execution_count": 8,
   "metadata": {
    "scrolled": true
   },
   "outputs": [
    {
     "name": "stdout",
     "output_type": "stream",
     "text": [
      "min after normalization: OK\n",
      "max after normalization: OK\n"
     ]
    },
    {
     "ename": "ValueError",
     "evalue": "not enough values to unpack (expected 3, got 2)",
     "output_type": "error",
     "traceback": [
      "\u001b[0;31m---------------------------------------------------------------------------\u001b[0m",
      "\u001b[0;31mValueError\u001b[0m                                Traceback (most recent call last)",
      "\u001b[0;32m<ipython-input-8-56abe6fa4505>\u001b[0m in \u001b[0;36m<module>\u001b[0;34m\u001b[0m\n\u001b[1;32m     10\u001b[0m     \u001b[0mprint\u001b[0m\u001b[0;34m(\u001b[0m\u001b[0;34m\"stds after standardization: \"\u001b[0m \u001b[0;34m+\u001b[0m \u001b[0;34m(\u001b[0m\u001b[0;34m\"OK\"\u001b[0m \u001b[0;32mif\u001b[0m \u001b[0mall\u001b[0m\u001b[0;34m(\u001b[0m\u001b[0mnp\u001b[0m\u001b[0;34m.\u001b[0m\u001b[0misclose\u001b[0m\u001b[0;34m(\u001b[0m\u001b[0mnp\u001b[0m\u001b[0;34m.\u001b[0m\u001b[0mdiag\u001b[0m\u001b[0;34m(\u001b[0m\u001b[0mcovariances\u001b[0m\u001b[0;34m)\u001b[0m\u001b[0;34m,\u001b[0m \u001b[0mnp\u001b[0m\u001b[0;34m.\u001b[0m\u001b[0mones\u001b[0m\u001b[0;34m(\u001b[0m\u001b[0;36m4\u001b[0m\u001b[0;34m)\u001b[0m\u001b[0;34m)\u001b[0m\u001b[0;34m)\u001b[0m \u001b[0;32melse\u001b[0m \u001b[0;34m\"FAIL\"\u001b[0m\u001b[0;34m)\u001b[0m\u001b[0;34m)\u001b[0m\u001b[0;34m\u001b[0m\u001b[0;34m\u001b[0m\u001b[0m\n\u001b[1;32m     11\u001b[0m \u001b[0;34m\u001b[0m\u001b[0m\n\u001b[0;32m---> 12\u001b[0;31m \u001b[0mtestNormalizationAndStandardization\u001b[0m\u001b[0;34m(\u001b[0m\u001b[0mDIris\u001b[0m\u001b[0;34m)\u001b[0m\u001b[0;34m\u001b[0m\u001b[0;34m\u001b[0m\u001b[0m\n\u001b[0m\u001b[1;32m     13\u001b[0m \u001b[0;34m\u001b[0m\u001b[0m\n",
      "\u001b[0;32m<ipython-input-8-56abe6fa4505>\u001b[0m in \u001b[0;36mtestNormalizationAndStandardization\u001b[0;34m(D)\u001b[0m\n\u001b[1;32m      6\u001b[0m \u001b[0;34m\u001b[0m\u001b[0m\n\u001b[1;32m      7\u001b[0m     \u001b[0ms\u001b[0m \u001b[0;34m=\u001b[0m \u001b[0mstandardize\u001b[0m\u001b[0;34m(\u001b[0m\u001b[0mD\u001b[0m\u001b[0;34m)\u001b[0m\u001b[0;34m\u001b[0m\u001b[0;34m\u001b[0m\u001b[0m\n\u001b[0;32m----> 8\u001b[0;31m     \u001b[0mmean\u001b[0m\u001b[0;34m,\u001b[0m \u001b[0mcovariances\u001b[0m\u001b[0;34m,\u001b[0m \u001b[0mcorrelations\u001b[0m \u001b[0;34m=\u001b[0m \u001b[0mgetStats\u001b[0m\u001b[0;34m(\u001b[0m\u001b[0ms\u001b[0m\u001b[0;34m)\u001b[0m\u001b[0;34m\u001b[0m\u001b[0;34m\u001b[0m\u001b[0m\n\u001b[0m\u001b[1;32m      9\u001b[0m     \u001b[0mprint\u001b[0m\u001b[0;34m(\u001b[0m\u001b[0;34m\"mean after standardization: \"\u001b[0m \u001b[0;34m+\u001b[0m \u001b[0;34m(\u001b[0m\u001b[0;34m\"OK\"\u001b[0m \u001b[0;32mif\u001b[0m \u001b[0mall\u001b[0m\u001b[0;34m(\u001b[0m\u001b[0mnp\u001b[0m\u001b[0;34m.\u001b[0m\u001b[0misclose\u001b[0m\u001b[0;34m(\u001b[0m\u001b[0mmean\u001b[0m\u001b[0;34m,\u001b[0m \u001b[0mnp\u001b[0m\u001b[0;34m.\u001b[0m\u001b[0mzeros\u001b[0m\u001b[0;34m(\u001b[0m\u001b[0;36m4\u001b[0m\u001b[0;34m)\u001b[0m\u001b[0;34m)\u001b[0m\u001b[0;34m)\u001b[0m \u001b[0;32melse\u001b[0m \u001b[0;34m\"FAIL\"\u001b[0m\u001b[0;34m)\u001b[0m\u001b[0;34m)\u001b[0m\u001b[0;34m\u001b[0m\u001b[0;34m\u001b[0m\u001b[0m\n\u001b[1;32m     10\u001b[0m     \u001b[0mprint\u001b[0m\u001b[0;34m(\u001b[0m\u001b[0;34m\"stds after standardization: \"\u001b[0m \u001b[0;34m+\u001b[0m \u001b[0;34m(\u001b[0m\u001b[0;34m\"OK\"\u001b[0m \u001b[0;32mif\u001b[0m \u001b[0mall\u001b[0m\u001b[0;34m(\u001b[0m\u001b[0mnp\u001b[0m\u001b[0;34m.\u001b[0m\u001b[0misclose\u001b[0m\u001b[0;34m(\u001b[0m\u001b[0mnp\u001b[0m\u001b[0;34m.\u001b[0m\u001b[0mdiag\u001b[0m\u001b[0;34m(\u001b[0m\u001b[0mcovariances\u001b[0m\u001b[0;34m)\u001b[0m\u001b[0;34m,\u001b[0m \u001b[0mnp\u001b[0m\u001b[0;34m.\u001b[0m\u001b[0mones\u001b[0m\u001b[0;34m(\u001b[0m\u001b[0;36m4\u001b[0m\u001b[0;34m)\u001b[0m\u001b[0;34m)\u001b[0m\u001b[0;34m)\u001b[0m \u001b[0;32melse\u001b[0m \u001b[0;34m\"FAIL\"\u001b[0m\u001b[0;34m)\u001b[0m\u001b[0;34m)\u001b[0m\u001b[0;34m\u001b[0m\u001b[0;34m\u001b[0m\u001b[0m\n",
      "\u001b[0;31mValueError\u001b[0m: not enough values to unpack (expected 3, got 2)"
     ]
    }
   ],
   "source": [
    "# UNIT TEST normalize AND standardize\n",
    "def testNormalizationAndStandardization(D):\n",
    "    n = normalize(D)\n",
    "    print(\"min after normalization: \" + (\"OK\" if all(np.isclose(np.min(n, axis=0), np.zeros(4))) else \"FAIL\"))\n",
    "    print(\"max after normalization: \" + (\"OK\" if all(np.isclose(np.max(n, axis=0), np.ones(4))) else \"FAIL\"))\n",
    "\n",
    "    s = standardize(D)\n",
    "    mean, covariances, correlations = getStats(s)\n",
    "    print(\"mean after standardization: \" + (\"OK\" if all(np.isclose(mean, np.zeros(4))) else \"FAIL\"))\n",
    "    print(\"stds after standardization: \" + (\"OK\" if all(np.isclose(np.diag(covariances), np.ones(4))) else \"FAIL\"))\n",
    "\n",
    "testNormalizationAndStandardization(DIris)\n",
    "\n"
   ]
  },
  {
   "cell_type": "code",
   "execution_count": 6,
   "metadata": {},
   "outputs": [],
   "source": [
    "def normalize(D):\n",
    "    return((D - D.min(axis=0))/(D.max(axis=0) - D.min(axis=0)))"
   ]
  },
  {
   "cell_type": "code",
   "execution_count": 7,
   "metadata": {},
   "outputs": [],
   "source": [
    "def standardize(D):\n",
    "    return((D - D.mean(axis = 0)) / D.std(axis = 0))"
   ]
  },
  {
   "cell_type": "code",
   "execution_count": null,
   "metadata": {},
   "outputs": [],
   "source": []
  }
 ],
 "metadata": {
  "kernelspec": {
   "display_name": "Python 3",
   "language": "python",
   "name": "python3"
  },
  "language_info": {
   "codemirror_mode": {
    "name": "ipython",
    "version": 3
   },
   "file_extension": ".py",
   "mimetype": "text/x-python",
   "name": "python",
   "nbconvert_exporter": "python",
   "pygments_lexer": "ipython3",
   "version": "3.8.5"
  }
 },
 "nbformat": 4,
 "nbformat_minor": 2
}
